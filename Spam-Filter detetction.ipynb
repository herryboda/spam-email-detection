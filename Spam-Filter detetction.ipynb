{
 "cells": [
  {
   "cell_type": "markdown",
   "metadata": {},
   "source": [
    "## Exercise:\n",
    "\n",
    "* There are 922 e-mails divided equally between spam and non-spam(ham)\n",
    "* The first line of every email contains the subject and the third line contains the body as shown:"
   ]
  },
  {
   "cell_type": "markdown",
   "metadata": {},
   "source": [
    "![title](sample_email.png)"
   ]
  },
  {
   "cell_type": "markdown",
   "metadata": {},
   "source": [
    "## Perform text analysis only on the body to detect spam mails"
   ]
  },
  {
   "cell_type": "markdown",
   "metadata": {},
   "source": [
    "## Steps:\n",
    "1. Read the body of all the emails. (Hint: Just google how to read multiple text files in python. Its very simple - all the text files can be read at once using a simple loop. But make sure while reading itself you read only the body (third line) and not the subject).\n",
    "2. Once you read, the content of all the mails can be collected in a python list.\n",
    "3. Create a pandas dataframe from that list and add the class label column [spam(1) or ham(0)]\n",
    "4. The shape of the pandas dataframe must be (922 x 2) - 922 rows and 2 columns\n",
    "5. Now perform the standard preprocessing steps on the contents of the mail (stopword removal, lower casing, etc.)\n",
    "6. After that create vectors using Binary BOW, count BOW and TFIDF.\n",
    "7. Use BernoulliNB with Binary BOW and MultinomialNB with Count BOW and TFIDF\n",
    "8. Evaluate all the three methods using Accuracy, Confusion Matrix and F-1 Score.\n",
    "9. Compare the results of the three methods"
   ]
  },
  {
   "cell_type": "code",
   "execution_count": 1,
   "metadata": {
    "collapsed": true
   },
   "outputs": [],
   "source": [
    "import numpy as np\n",
    "import pandas as pd\n",
    "import matplotlib.pyplot as plt\n",
    "import seaborn as sns\n",
    "%matplotlib inline\n",
    "\n",
    "import sqlite3\n",
    "import pickle\n",
    "from sklearn.feature_extraction.text import TfidfVectorizer\n",
    "from sklearn.feature_extraction.text import CountVectorizer\n",
    "from sklearn.naive_bayes import BernoulliNB\n",
    "from sklearn.naive_bayes import MultinomialNB\n",
    "\n",
    "\n",
    "from sklearn.preprocessing import StandardScaler\n",
    "from sklearn.model_selection import train_test_split\n",
    "from sklearn.model_selection import cross_val_score\n",
    "from sklearn.neighbors import KNeighborsClassifier\n",
    "from matplotlib.colors import ListedColormap\n",
    "from sklearn.metrics import accuracy_score\n",
    "from sklearn.metrics import confusion_matrix\n",
    "\n",
    "\n",
    "import re\n",
    "from nltk.corpus import stopwords\n",
    "import nltk \n",
    "\n",
    "import glob\n",
    "import errno\n",
    "\n",
    "from sklearn.manifold import  TSNE\n",
    "from sklearn.utils import shuffle"
   ]
  },
  {
   "cell_type": "markdown",
   "metadata": {},
   "source": [
    "### reading multiple .txt file from Spam and Ham folder"
   ]
  },
  {
   "cell_type": "code",
   "execution_count": 3,
   "metadata": {
    "collapsed": true
   },
   "outputs": [],
   "source": [
    "def ret(loc):\n",
    "    path =loc\n",
    "    files = glob.glob(path)\n",
    "    lst=[]\n",
    "    for fname in files:\n",
    "        try:\n",
    "            with open(fname,'r') as f:\n",
    "                lines = f.readlines()\n",
    "                str = '' \n",
    "                for i in range(2,len(lines)):\n",
    "                    str += lines[i].rstrip('\\n') \n",
    "                    lst.append(str)\n",
    "                f.close()\n",
    "        except IOError as exc:\n",
    "            if exc.errno != errno.EISDIR:\n",
    "                raise\n",
    "    return lst"
   ]
  },
  {
   "cell_type": "code",
   "execution_count": 4,
   "metadata": {},
   "outputs": [
    {
     "name": "stdout",
     "output_type": "stream",
     "text": [
      "481\n",
      "481\n"
     ]
    }
   ],
   "source": [
    "spam=ret('/Users/abc/Desktop/machine learning/Models vectors/spam filter/Spam Dataset/Spam emails/*.txt')\n",
    "ham=ret('/Users/abc/Desktop/machine learning/Models vectors/spam filter/Spam Dataset/Ham emails/*.txt')\n",
    "print(len(spam))\n",
    "print(len(ham))"
   ]
  },
  {
   "cell_type": "markdown",
   "metadata": {},
   "source": [
    "#### Making pandas Dataframe"
   ]
  },
  {
   "cell_type": "code",
   "execution_count": 5,
   "metadata": {},
   "outputs": [
    {
     "data": {
      "text/html": [
       "<div>\n",
       "<style>\n",
       "    .dataframe thead tr:only-child th {\n",
       "        text-align: right;\n",
       "    }\n",
       "\n",
       "    .dataframe thead th {\n",
       "        text-align: left;\n",
       "    }\n",
       "\n",
       "    .dataframe tbody tr th {\n",
       "        vertical-align: top;\n",
       "    }\n",
       "</style>\n",
       "<table border=\"1\" class=\"dataframe\">\n",
       "  <thead>\n",
       "    <tr style=\"text-align: right;\">\n",
       "      <th></th>\n",
       "      <th>mail</th>\n",
       "      <th>type</th>\n",
       "    </tr>\n",
       "  </thead>\n",
       "  <tbody>\n",
       "    <tr>\n",
       "      <th>0</th>\n",
       "      <td>* * * * * * * * * * * * * * * display box cred...</td>\n",
       "      <td>1</td>\n",
       "    </tr>\n",
       "    <tr>\n",
       "      <th>1</th>\n",
       "      <td>dear nlpeople , ' m sure ' ll agree auto insur...</td>\n",
       "      <td>1</td>\n",
       "    </tr>\n",
       "    <tr>\n",
       "      <th>2</th>\n",
       "      <td>want best hunt camp vacation life , felton 's ...</td>\n",
       "      <td>1</td>\n",
       "    </tr>\n",
       "    <tr>\n",
       "      <th>3</th>\n",
       "      <td>57 million email addresses $ 99 want money ? p...</td>\n",
       "      <td>1</td>\n",
       "    </tr>\n",
       "    <tr>\n",
       "      <th>4</th>\n",
       "      <td>attention ! warn ! adult ! warn ! adult ! unde...</td>\n",
       "      <td>1</td>\n",
       "    </tr>\n",
       "    <tr>\n",
       "      <th>5</th>\n",
       "      <td>attention ! warn ! adult ! warn ! adult ! unde...</td>\n",
       "      <td>1</td>\n",
       "    </tr>\n",
       "    <tr>\n",
       "      <th>6</th>\n",
       "      <td>subject : re : are debt ? help . qualify finge...</td>\n",
       "      <td>1</td>\n",
       "    </tr>\n",
       "    <tr>\n",
       "      <th>7</th>\n",
       "      <td>= = = = = = = = = = = = = = = = = = = = = = = ...</td>\n",
       "      <td>1</td>\n",
       "    </tr>\n",
       "    <tr>\n",
       "      <th>8</th>\n",
       "      <td>57 million email addresses $ 99 want money ? p...</td>\n",
       "      <td>1</td>\n",
       "    </tr>\n",
       "    <tr>\n",
       "      <th>9</th>\n",
       "      <td>$ 3500 per week home computer ! put free softw...</td>\n",
       "      <td>1</td>\n",
       "    </tr>\n",
       "    <tr>\n",
       "      <th>10</th>\n",
       "      <td>2 newest hottest interactive adult web site so...</td>\n",
       "      <td>1</td>\n",
       "    </tr>\n",
       "    <tr>\n",
       "      <th>11</th>\n",
       "      <td>hi . name denni . third-generation , professio...</td>\n",
       "      <td>1</td>\n",
       "    </tr>\n",
       "    <tr>\n",
       "      <th>12</th>\n",
       "      <td>desk robert g . allen dear nlpeople first let ...</td>\n",
       "      <td>1</td>\n",
       "    </tr>\n",
       "    <tr>\n",
       "      <th>13</th>\n",
       "      <td>* ever speed ticket need desperate ? * become ...</td>\n",
       "      <td>1</td>\n",
       "    </tr>\n",
       "    <tr>\n",
       "      <th>14</th>\n",
       "      <td>special : work home , sell successfully earn t...</td>\n",
       "      <td>1</td>\n",
       "    </tr>\n",
       "    <tr>\n",
       "      <th>15</th>\n",
       "      <td>rumor are true ! * * * * * * * * * * * * * * *...</td>\n",
       "      <td>1</td>\n",
       "    </tr>\n",
       "    <tr>\n",
       "      <th>16</th>\n",
       "      <td>federally mandate , electric deregulation , al...</td>\n",
       "      <td>1</td>\n",
       "    </tr>\n",
       "    <tr>\n",
       "      <th>17</th>\n",
       "      <td>pardon intrusion . offence mean . interest , s...</td>\n",
       "      <td>1</td>\n",
       "    </tr>\n",
       "    <tr>\n",
       "      <th>18</th>\n",
       "      <td>was released ! ! introducing . . . millions vo...</td>\n",
       "      <td>1</td>\n",
       "    </tr>\n",
       "    <tr>\n",
       "      <th>19</th>\n",
       "      <td>ever treat bid embarrase credit report bid cre...</td>\n",
       "      <td>1</td>\n",
       "    </tr>\n",
       "    <tr>\n",
       "      <th>20</th>\n",
       "      <td>: pay off 30 mortgage much less pay off credit...</td>\n",
       "      <td>1</td>\n",
       "    </tr>\n",
       "    <tr>\n",
       "      <th>21</th>\n",
       "      <td>authenticate sender subject : ( + ( + bull _ s...</td>\n",
       "      <td>1</td>\n",
       "    </tr>\n",
       "    <tr>\n",
       "      <th>22</th>\n",
       "      <td>hey , ' ll point . web site free trial 10 best...</td>\n",
       "      <td>1</td>\n",
       "    </tr>\n",
       "    <tr>\n",
       "      <th>23</th>\n",
       "      <td>horizon publish invite saltwater aquarium hobb...</td>\n",
       "      <td>1</td>\n",
       "    </tr>\n",
       "    <tr>\n",
       "      <th>24</th>\n",
       "      <td>multi-part message mime format . - - part0 _ 9...</td>\n",
       "      <td>1</td>\n",
       "    </tr>\n",
       "    <tr>\n",
       "      <th>25</th>\n",
       "      <td>read 1st paragraph ! convince , delete . bet i...</td>\n",
       "      <td>1</td>\n",
       "    </tr>\n",
       "    <tr>\n",
       "      <th>26</th>\n",
       "      <td>released . . . 30 , 0 , 0 email address ! plus...</td>\n",
       "      <td>1</td>\n",
       "    </tr>\n",
       "    <tr>\n",
       "      <th>27</th>\n",
       "      <td>attention ! warn ! adult ! warn ! adult ! unde...</td>\n",
       "      <td>1</td>\n",
       "    </tr>\n",
       "    <tr>\n",
       "      <th>28</th>\n",
       "      <td>hello , name kevin elphick manage director nur...</td>\n",
       "      <td>1</td>\n",
       "    </tr>\n",
       "    <tr>\n",
       "      <th>29</th>\n",
       "      <td>b r g n r f r e s 1 - stop travel supplier air...</td>\n",
       "      <td>1</td>\n",
       "    </tr>\n",
       "    <tr>\n",
       "      <th>...</th>\n",
       "      <td>...</td>\n",
       "      <td>...</td>\n",
       "    </tr>\n",
       "    <tr>\n",
       "      <th>932</th>\n",
       "      <td>* deadline abstracts - april 30 , 1998 * tag t...</td>\n",
       "      <td>0</td>\n",
       "    </tr>\n",
       "    <tr>\n",
       "      <th>933</th>\n",
       "      <td>certamen phonologicum iii pier marco bertinett...</td>\n",
       "      <td>0</td>\n",
       "    </tr>\n",
       "    <tr>\n",
       "      <th>934</th>\n",
       "      <td>second call papers icslp ' 98 5th internationa...</td>\n",
       "      <td>0</td>\n",
       "    </tr>\n",
       "    <tr>\n",
       "      <th>935</th>\n",
       "      <td>pre - final programme call participation works...</td>\n",
       "      <td>0</td>\n",
       "    </tr>\n",
       "    <tr>\n",
       "      <th>936</th>\n",
       "      <td>call participation logic course internet : dyn...</td>\n",
       "      <td>0</td>\n",
       "    </tr>\n",
       "    <tr>\n",
       "      <th>937</th>\n",
       "      <td>follow list contents forthcome issue journal l...</td>\n",
       "      <td>0</td>\n",
       "    </tr>\n",
       "    <tr>\n",
       "      <th>938</th>\n",
       "      <td>association language awareness knowledge langu...</td>\n",
       "      <td>0</td>\n",
       "    </tr>\n",
       "    <tr>\n",
       "      <th>939</th>\n",
       "      <td>evaluation parsing systems workshop jointly or...</td>\n",
       "      <td>0</td>\n",
       "    </tr>\n",
       "    <tr>\n",
       "      <th>940</th>\n",
       "      <td>= = = = = = = = = = = = = = = = = = = = = = = ...</td>\n",
       "      <td>0</td>\n",
       "    </tr>\n",
       "    <tr>\n",
       "      <th>941</th>\n",
       "      <td>tenth conference nordic general linguistic hol...</td>\n",
       "      <td>0</td>\n",
       "    </tr>\n",
       "    <tr>\n",
       "      <th>942</th>\n",
       "      <td>change date extended deadline - - - - - - - - ...</td>\n",
       "      <td>0</td>\n",
       "    </tr>\n",
       "    <tr>\n",
       "      <th>943</th>\n",
       "      <td>acl / coling-98 ( association computational li...</td>\n",
       "      <td>0</td>\n",
       "    </tr>\n",
       "    <tr>\n",
       "      <th>944</th>\n",
       "      <td>december 17 18 , 1998 , tilburg university hos...</td>\n",
       "      <td>0</td>\n",
       "    </tr>\n",
       "    <tr>\n",
       "      <th>945</th>\n",
       "      <td>final call papers als-98 australian linguistic...</td>\n",
       "      <td>0</td>\n",
       "    </tr>\n",
       "    <tr>\n",
       "      <th>946</th>\n",
       "      <td>call papers . student conference linguistic 10...</td>\n",
       "      <td>0</td>\n",
       "    </tr>\n",
       "    <tr>\n",
       "      <th>947</th>\n",
       "      <td>special \" stream \" 20th annual meet cognitive ...</td>\n",
       "      <td>0</td>\n",
       "    </tr>\n",
       "    <tr>\n",
       "      <th>948</th>\n",
       "      <td>workshop mathematical linguistics ( wml ) penn...</td>\n",
       "      <td>0</td>\n",
       "    </tr>\n",
       "    <tr>\n",
       "      <th>949</th>\n",
       "      <td>1998 nic symposium intercultural communication...</td>\n",
       "      <td>0</td>\n",
       "    </tr>\n",
       "    <tr>\n",
       "      <th>950</th>\n",
       "      <td>invitation workshop during 31st sle conference...</td>\n",
       "      <td>0</td>\n",
       "    </tr>\n",
       "    <tr>\n",
       "      <th>951</th>\n",
       "      <td>book list below linguist office available revi...</td>\n",
       "      <td>0</td>\n",
       "    </tr>\n",
       "    <tr>\n",
       "      <th>952</th>\n",
       "      <td>chus - - phonetic phonology group university c...</td>\n",
       "      <td>0</td>\n",
       "    </tr>\n",
       "    <tr>\n",
       "      <th>953</th>\n",
       "      <td>call papers distribute access linguistic resou...</td>\n",
       "      <td>0</td>\n",
       "    </tr>\n",
       "    <tr>\n",
       "      <th>954</th>\n",
       "      <td>coling-acl ' 98 workshop call papers + - - - -...</td>\n",
       "      <td>0</td>\n",
       "    </tr>\n",
       "    <tr>\n",
       "      <th>955</th>\n",
       "      <td>call paper syllable : typology theory conferen...</td>\n",
       "      <td>0</td>\n",
       "    </tr>\n",
       "    <tr>\n",
       "      <th>956</th>\n",
       "      <td>announcement call papers january 1998 - - - - ...</td>\n",
       "      <td>0</td>\n",
       "    </tr>\n",
       "    <tr>\n",
       "      <th>957</th>\n",
       "      <td>call papers twenty after publication linguisti...</td>\n",
       "      <td>0</td>\n",
       "    </tr>\n",
       "    <tr>\n",
       "      <th>958</th>\n",
       "      <td>call participation towards european evaluation...</td>\n",
       "      <td>0</td>\n",
       "    </tr>\n",
       "    <tr>\n",
       "      <th>959</th>\n",
       "      <td>final call paper lfg98 1998 international lexi...</td>\n",
       "      <td>0</td>\n",
       "    </tr>\n",
       "    <tr>\n",
       "      <th>960</th>\n",
       "      <td>call papers 5th international conference spoke...</td>\n",
       "      <td>0</td>\n",
       "    </tr>\n",
       "    <tr>\n",
       "      <th>961</th>\n",
       "      <td>iii brazilian international conference cogniti...</td>\n",
       "      <td>0</td>\n",
       "    </tr>\n",
       "  </tbody>\n",
       "</table>\n",
       "<p>962 rows × 2 columns</p>\n",
       "</div>"
      ],
      "text/plain": [
       "                                                  mail  type\n",
       "0    * * * * * * * * * * * * * * * display box cred...     1\n",
       "1    dear nlpeople , ' m sure ' ll agree auto insur...     1\n",
       "2    want best hunt camp vacation life , felton 's ...     1\n",
       "3    57 million email addresses $ 99 want money ? p...     1\n",
       "4    attention ! warn ! adult ! warn ! adult ! unde...     1\n",
       "5    attention ! warn ! adult ! warn ! adult ! unde...     1\n",
       "6    subject : re : are debt ? help . qualify finge...     1\n",
       "7    = = = = = = = = = = = = = = = = = = = = = = = ...     1\n",
       "8    57 million email addresses $ 99 want money ? p...     1\n",
       "9    $ 3500 per week home computer ! put free softw...     1\n",
       "10   2 newest hottest interactive adult web site so...     1\n",
       "11   hi . name denni . third-generation , professio...     1\n",
       "12   desk robert g . allen dear nlpeople first let ...     1\n",
       "13   * ever speed ticket need desperate ? * become ...     1\n",
       "14   special : work home , sell successfully earn t...     1\n",
       "15   rumor are true ! * * * * * * * * * * * * * * *...     1\n",
       "16   federally mandate , electric deregulation , al...     1\n",
       "17   pardon intrusion . offence mean . interest , s...     1\n",
       "18   was released ! ! introducing . . . millions vo...     1\n",
       "19   ever treat bid embarrase credit report bid cre...     1\n",
       "20   : pay off 30 mortgage much less pay off credit...     1\n",
       "21   authenticate sender subject : ( + ( + bull _ s...     1\n",
       "22   hey , ' ll point . web site free trial 10 best...     1\n",
       "23   horizon publish invite saltwater aquarium hobb...     1\n",
       "24   multi-part message mime format . - - part0 _ 9...     1\n",
       "25   read 1st paragraph ! convince , delete . bet i...     1\n",
       "26   released . . . 30 , 0 , 0 email address ! plus...     1\n",
       "27   attention ! warn ! adult ! warn ! adult ! unde...     1\n",
       "28   hello , name kevin elphick manage director nur...     1\n",
       "29   b r g n r f r e s 1 - stop travel supplier air...     1\n",
       "..                                                 ...   ...\n",
       "932  * deadline abstracts - april 30 , 1998 * tag t...     0\n",
       "933  certamen phonologicum iii pier marco bertinett...     0\n",
       "934  second call papers icslp ' 98 5th internationa...     0\n",
       "935  pre - final programme call participation works...     0\n",
       "936  call participation logic course internet : dyn...     0\n",
       "937  follow list contents forthcome issue journal l...     0\n",
       "938  association language awareness knowledge langu...     0\n",
       "939  evaluation parsing systems workshop jointly or...     0\n",
       "940  = = = = = = = = = = = = = = = = = = = = = = = ...     0\n",
       "941  tenth conference nordic general linguistic hol...     0\n",
       "942  change date extended deadline - - - - - - - - ...     0\n",
       "943  acl / coling-98 ( association computational li...     0\n",
       "944  december 17 18 , 1998 , tilburg university hos...     0\n",
       "945  final call papers als-98 australian linguistic...     0\n",
       "946  call papers . student conference linguistic 10...     0\n",
       "947  special \" stream \" 20th annual meet cognitive ...     0\n",
       "948  workshop mathematical linguistics ( wml ) penn...     0\n",
       "949  1998 nic symposium intercultural communication...     0\n",
       "950  invitation workshop during 31st sle conference...     0\n",
       "951  book list below linguist office available revi...     0\n",
       "952  chus - - phonetic phonology group university c...     0\n",
       "953  call papers distribute access linguistic resou...     0\n",
       "954  coling-acl ' 98 workshop call papers + - - - -...     0\n",
       "955  call paper syllable : typology theory conferen...     0\n",
       "956  announcement call papers january 1998 - - - - ...     0\n",
       "957  call papers twenty after publication linguisti...     0\n",
       "958  call participation towards european evaluation...     0\n",
       "959  final call paper lfg98 1998 international lexi...     0\n",
       "960  call papers 5th international conference spoke...     0\n",
       "961  iii brazilian international conference cogniti...     0\n",
       "\n",
       "[962 rows x 2 columns]"
      ]
     },
     "execution_count": 5,
     "metadata": {},
     "output_type": "execute_result"
    }
   ],
   "source": [
    "spam=pd.DataFrame(spam,columns=['mail'])\n",
    "ham=pd.DataFrame(ham,columns=['mail'])\n",
    "spam['type']=1\n",
    "ham['type']=0\n",
    "data=pd.concat([spam,ham],axis=0,ignore_index=True)\n",
    "data"
   ]
  },
  {
   "cell_type": "markdown",
   "metadata": {},
   "source": [
    "#### Loading Data file"
   ]
  },
  {
   "cell_type": "code",
   "execution_count": 6,
   "metadata": {},
   "outputs": [
    {
     "data": {
      "text/plain": [
       "<function Connection.close>"
      ]
     },
     "execution_count": 6,
     "metadata": {},
     "output_type": "execute_result"
    }
   ],
   "source": [
    "conn=sqlite3.connect('spam.sqlite')\n",
    "c=conn.cursor()\n",
    "spam.to_sql('Data',conn,if_exists='replace',index=False)\n",
    "conn.close"
   ]
  },
  {
   "cell_type": "markdown",
   "metadata": {},
   "source": [
    "#### Checking Duplicated mails"
   ]
  },
  {
   "cell_type": "code",
   "execution_count": 9,
   "metadata": {},
   "outputs": [
    {
     "data": {
      "text/plain": [
       "(937, 2)"
      ]
     },
     "execution_count": 9,
     "metadata": {},
     "output_type": "execute_result"
    }
   ],
   "source": [
    "data=data.drop_duplicates(subset=['mail'])\n",
    "data.shape #25 duplicates mail "
   ]
  },
  {
   "cell_type": "markdown",
   "metadata": {},
   "source": [
    "# Text Preprocessing "
   ]
  },
  {
   "cell_type": "markdown",
   "metadata": {},
   "source": [
    "#### Removal of stopwords"
   ]
  },
  {
   "cell_type": "code",
   "execution_count": 10,
   "metadata": {
    "collapsed": true
   },
   "outputs": [],
   "source": [
    "stop = set(stopwords.words('english'))"
   ]
  },
  {
   "cell_type": "code",
   "execution_count": 11,
   "metadata": {},
   "outputs": [
    {
     "name": "stdout",
     "output_type": "stream",
     "text": [
      "{'am', 'itself', 'will', 'on', 'himself', \"wasn't\", 'that', 'after', 'being', 'do', 'their', 'but', 'don', 'when', 'll', 'wouldn', 'under', 'his', 'out', 'whom', 'as', \"mightn't\", 'ain', 'him', 'is', 'off', 'themselves', 'there', 'then', 're', \"that'll\", 'for', 'my', 'an', 'down', 'our', 'up', 'they', 'who', 'have', 'such', 'in', 'same', 'its', 'of', \"you'll\", 'aren', 'them', 'above', 'did', 'be', 'again', \"shouldn't\", 'into', \"it's\", 'he', 'hers', 'yourself', \"haven't\", 'other', 'below', 'so', \"you're\", \"weren't\", 'been', 'needn', 'all', \"shan't\", \"aren't\", 'by', 'no', 'ourselves', 'mustn', 'each', 'until', 'shan', \"mustn't\", \"you've\", 'were', 'which', 'very', 'd', 'about', 'are', 'hadn', 'she', 'a', 'both', 'where', 'the', 'own', 'her', 'few', 'from', 'couldn', 'has', 'and', 'to', 'now', 'or', 't', 'if', \"needn't\", \"hasn't\", 'doing', 'these', 'isn', 'myself', \"couldn't\", 'i', 'more', 'while', 'this', 'at', 'before', 'it', \"won't\", 'any', 'does', 'here', 'further', 'didn', 'having', \"should've\", 'through', 'during', 'haven', \"you'd\", 's', 've', 'weren', \"hadn't\", 'had', 'over', \"didn't\", 'was', 'just', 'because', 'between', 'can', 'we', 'yourselves', \"she's\", 'what', 'should', 'doesn', 'how', 'some', 'ours', 'ma', 'why', 'o', 'once', 'shouldn', 'yours', 'only', 'y', 'those', 'theirs', 'most', 'm', 'too', 'herself', \"isn't\", 'me', 'with', 'hasn', 'mightn', 'wasn', 'your', 'than', 'you'}\n"
     ]
    }
   ],
   "source": [
    "lst = [\"wouldn't\",'won', 'nor', 'not', 'against',\"doesn't\",\"don't\"]\n",
    "for word in lst:\n",
    "    stop.remove(word)\n",
    "print(stop)"
   ]
  },
  {
   "cell_type": "code",
   "execution_count": 12,
   "metadata": {
    "collapsed": true
   },
   "outputs": [],
   "source": [
    "sno = nltk.stem.SnowballStemmer('english')"
   ]
  },
  {
   "cell_type": "markdown",
   "metadata": {},
   "source": [
    "#### Removal of html tags"
   ]
  },
  {
   "cell_type": "code",
   "execution_count": 22,
   "metadata": {
    "collapsed": true
   },
   "outputs": [],
   "source": [
    "def cleanhtml(sent):\n",
    "    cleanr=re.compile('<.*?>')\n",
    "    cleantext=re.sub(cleanr,' ',sent)\n",
    "    return cleantext"
   ]
  },
  {
   "cell_type": "markdown",
   "metadata": {},
   "source": [
    "#### Removal of puncuation tags"
   ]
  },
  {
   "cell_type": "code",
   "execution_count": 23,
   "metadata": {
    "collapsed": true
   },
   "outputs": [],
   "source": [
    "def cleanpunc(sent):\n",
    "    cleaned=re.sub(r'[?|@|!|^|%|\\'|\"|#|$|:|*|+|-|=|\\-|&|_]',r'',sent)\n",
    "    cleaned=re.sub(r'[.|,|)|(|\\|/]',r' ',cleaned)\n",
    "    return cleaned"
   ]
  },
  {
   "cell_type": "code",
   "execution_count": 32,
   "metadata": {
    "collapsed": true
   },
   "outputs": [],
   "source": [
    "def preprocessing(series):\n",
    "    \n",
    "    i = 0\n",
    "    str1=\" \"\n",
    "    final_string = []    ## This list will contain cleaned sentences\n",
    "    list_of_sent = []    ## This is a list of lists used as input to the W2V model at a later stage\n",
    "    \n",
    "    ## Creating below lists for future use\n",
    "    all_positive_words=[] # store words from spam mail here\n",
    "    all_negative_words=[] # store words from ham mail here\n",
    "    \n",
    "\n",
    "    for sent in series.values:\n",
    "        filtered_sent=[]\n",
    "        sent=cleanhtml(sent)\n",
    "        sent=cleanpunc(sent)\n",
    "        \n",
    "        for clean_word in sent.split():\n",
    "            if((clean_word.isalpha()) and (len(clean_word)>2)):\n",
    "                if(clean_word.lower() not in stop):\n",
    "                    s=(sno.stem(clean_word.lower()))\n",
    "                    s=clean_word.lower()\n",
    "                    filtered_sent.append(s)\n",
    "                    if(data['type'].values)[i]==1:\n",
    "                        all_positive_words.append(s)\n",
    "                    if(data['type'].values)[i]==0:\n",
    "                        all_negative_words.append(s)\n",
    "                        \n",
    "        list_of_sent.append(filtered_sent)\n",
    "        str1=' '.join(filtered_sent)\n",
    "        final_string.append(str1)\n",
    "        i+=1\n",
    "    return final_string,list_of_sent"
   ]
  },
  {
   "cell_type": "code",
   "execution_count": 33,
   "metadata": {
    "collapsed": true
   },
   "outputs": [],
   "source": [
    "final_string,list_of_sent=preprocessing(data['mail'])"
   ]
  },
  {
   "cell_type": "code",
   "execution_count": 35,
   "metadata": {},
   "outputs": [
    {
     "name": "stdout",
     "output_type": "stream",
     "text": [
      "(937, 3)\n"
     ]
    },
    {
     "data": {
      "text/html": [
       "<div>\n",
       "<style>\n",
       "    .dataframe thead tr:only-child th {\n",
       "        text-align: right;\n",
       "    }\n",
       "\n",
       "    .dataframe thead th {\n",
       "        text-align: left;\n",
       "    }\n",
       "\n",
       "    .dataframe tbody tr th {\n",
       "        vertical-align: top;\n",
       "    }\n",
       "</style>\n",
       "<table border=\"1\" class=\"dataframe\">\n",
       "  <thead>\n",
       "    <tr style=\"text-align: right;\">\n",
       "      <th></th>\n",
       "      <th>mail</th>\n",
       "      <th>type</th>\n",
       "      <th>cleaned_mail_stem</th>\n",
       "    </tr>\n",
       "  </thead>\n",
       "  <tbody>\n",
       "    <tr>\n",
       "      <th>0</th>\n",
       "      <td>* * * * * * * * * * * * * * * display box cred...</td>\n",
       "      <td>1</td>\n",
       "      <td>display box credit application need place smal...</td>\n",
       "    </tr>\n",
       "    <tr>\n",
       "      <th>1</th>\n",
       "      <td>dear nlpeople , ' m sure ' ll agree auto insur...</td>\n",
       "      <td>1</td>\n",
       "      <td>dear nlpeople sure agree auto insurance cost m...</td>\n",
       "    </tr>\n",
       "    <tr>\n",
       "      <th>2</th>\n",
       "      <td>want best hunt camp vacation life , felton 's ...</td>\n",
       "      <td>1</td>\n",
       "      <td>want best hunt camp vacation life felton hunt ...</td>\n",
       "    </tr>\n",
       "    <tr>\n",
       "      <th>3</th>\n",
       "      <td>57 million email addresses $ 99 want money ? p...</td>\n",
       "      <td>1</td>\n",
       "      <td>million email addresses want money put touch m...</td>\n",
       "    </tr>\n",
       "    <tr>\n",
       "      <th>4</th>\n",
       "      <td>attention ! warn ! adult ! warn ! adult ! unde...</td>\n",
       "      <td>1</td>\n",
       "      <td>attention warn adult warn adult age interest s...</td>\n",
       "    </tr>\n",
       "    <tr>\n",
       "      <th>5</th>\n",
       "      <td>attention ! warn ! adult ! warn ! adult ! unde...</td>\n",
       "      <td>1</td>\n",
       "      <td>attention warn adult warn adult age interest s...</td>\n",
       "    </tr>\n",
       "    <tr>\n",
       "      <th>6</th>\n",
       "      <td>subject : re : are debt ? help . qualify finge...</td>\n",
       "      <td>1</td>\n",
       "      <td>subject debt help qualify fingertip long dista...</td>\n",
       "    </tr>\n",
       "    <tr>\n",
       "      <th>7</th>\n",
       "      <td>= = = = = = = = = = = = = = = = = = = = = = = ...</td>\n",
       "      <td>1</td>\n",
       "      <td>please read found father unite state america w...</td>\n",
       "    </tr>\n",
       "    <tr>\n",
       "      <th>8</th>\n",
       "      <td>57 million email addresses $ 99 want money ? p...</td>\n",
       "      <td>1</td>\n",
       "      <td>million email addresses want money put touch m...</td>\n",
       "    </tr>\n",
       "    <tr>\n",
       "      <th>9</th>\n",
       "      <td>$ 3500 per week home computer ! put free softw...</td>\n",
       "      <td>1</td>\n",
       "      <td>per week home computer put free software compu...</td>\n",
       "    </tr>\n",
       "  </tbody>\n",
       "</table>\n",
       "</div>"
      ],
      "text/plain": [
       "                                                mail  type  \\\n",
       "0  * * * * * * * * * * * * * * * display box cred...     1   \n",
       "1  dear nlpeople , ' m sure ' ll agree auto insur...     1   \n",
       "2  want best hunt camp vacation life , felton 's ...     1   \n",
       "3  57 million email addresses $ 99 want money ? p...     1   \n",
       "4  attention ! warn ! adult ! warn ! adult ! unde...     1   \n",
       "5  attention ! warn ! adult ! warn ! adult ! unde...     1   \n",
       "6  subject : re : are debt ? help . qualify finge...     1   \n",
       "7  = = = = = = = = = = = = = = = = = = = = = = = ...     1   \n",
       "8  57 million email addresses $ 99 want money ? p...     1   \n",
       "9  $ 3500 per week home computer ! put free softw...     1   \n",
       "\n",
       "                                   cleaned_mail_stem  \n",
       "0  display box credit application need place smal...  \n",
       "1  dear nlpeople sure agree auto insurance cost m...  \n",
       "2  want best hunt camp vacation life felton hunt ...  \n",
       "3  million email addresses want money put touch m...  \n",
       "4  attention warn adult warn adult age interest s...  \n",
       "5  attention warn adult warn adult age interest s...  \n",
       "6  subject debt help qualify fingertip long dista...  \n",
       "7  please read found father unite state america w...  \n",
       "8  million email addresses want money put touch m...  \n",
       "9  per week home computer put free software compu...  "
      ]
     },
     "execution_count": 35,
     "metadata": {},
     "output_type": "execute_result"
    }
   ],
   "source": [
    "data['cleaned_mail_stem']=final_string\n",
    "print(data.shape)\n",
    "data.head(10)"
   ]
  },
  {
   "cell_type": "code",
   "execution_count": 36,
   "metadata": {},
   "outputs": [
    {
     "data": {
      "text/plain": [
       "<function Connection.close>"
      ]
     },
     "execution_count": 36,
     "metadata": {},
     "output_type": "execute_result"
    }
   ],
   "source": [
    "conn=sqlite3.connect('spam.sqlite')\n",
    "c=conn.cursor()\n",
    "spam.to_sql('Data',conn,if_exists='replace',index=False)\n",
    "conn.close"
   ]
  },
  {
   "cell_type": "markdown",
   "metadata": {},
   "source": [
    "#### Making Pickle file with cleam_email"
   ]
  },
  {
   "cell_type": "code",
   "execution_count": 37,
   "metadata": {
    "collapsed": true
   },
   "outputs": [],
   "source": [
    "with open('list_of_sent_for_input_to_w2v.pkl','wb') as pickle_file:\n",
    "    pickle.dump(list_of_sent,pickle_file)"
   ]
  },
  {
   "cell_type": "markdown",
   "metadata": {},
   "source": [
    "# BOW"
   ]
  },
  {
   "cell_type": "markdown",
   "metadata": {},
   "source": [
    "#### Shuffling all emails"
   ]
  },
  {
   "cell_type": "code",
   "execution_count": 38,
   "metadata": {},
   "outputs": [
    {
     "data": {
      "text/html": [
       "<div>\n",
       "<style>\n",
       "    .dataframe thead tr:only-child th {\n",
       "        text-align: right;\n",
       "    }\n",
       "\n",
       "    .dataframe thead th {\n",
       "        text-align: left;\n",
       "    }\n",
       "\n",
       "    .dataframe tbody tr th {\n",
       "        vertical-align: top;\n",
       "    }\n",
       "</style>\n",
       "<table border=\"1\" class=\"dataframe\">\n",
       "  <thead>\n",
       "    <tr style=\"text-align: right;\">\n",
       "      <th></th>\n",
       "      <th>mail</th>\n",
       "      <th>type</th>\n",
       "      <th>cleaned_mail_stem</th>\n",
       "    </tr>\n",
       "  </thead>\n",
       "  <tbody>\n",
       "    <tr>\n",
       "      <th>791</th>\n",
       "      <td>- - - - - swiss linguistic society organize su...</td>\n",
       "      <td>0</td>\n",
       "      <td>swiss linguistic society organize summer schoo...</td>\n",
       "    </tr>\n",
       "    <tr>\n",
       "      <th>360</th>\n",
       "      <td>hi , where wonder interest subscribe our opt-i...</td>\n",
       "      <td>1</td>\n",
       "      <td>wonder interest subscribe optin email list who...</td>\n",
       "    </tr>\n",
       "    <tr>\n",
       "      <th>582</th>\n",
       "      <td>forward follow post request robert rankin ( ra...</td>\n",
       "      <td>0</td>\n",
       "      <td>forward follow post request robert rankin rank...</td>\n",
       "    </tr>\n",
       "    <tr>\n",
       "      <th>611</th>\n",
       "      <td>* * * * * * celtic linguistics conference * * ...</td>\n",
       "      <td>0</td>\n",
       "      <td>celtic linguistics conference second post call...</td>\n",
       "    </tr>\n",
       "    <tr>\n",
       "      <th>284</th>\n",
       "      <td>discover family history - rate \" cool site wee...</td>\n",
       "      <td>1</td>\n",
       "      <td>discover family history rate cool site week vi...</td>\n",
       "    </tr>\n",
       "  </tbody>\n",
       "</table>\n",
       "</div>"
      ],
      "text/plain": [
       "                                                  mail  type  \\\n",
       "791  - - - - - swiss linguistic society organize su...     0   \n",
       "360  hi , where wonder interest subscribe our opt-i...     1   \n",
       "582  forward follow post request robert rankin ( ra...     0   \n",
       "611  * * * * * * celtic linguistics conference * * ...     0   \n",
       "284  discover family history - rate \" cool site wee...     1   \n",
       "\n",
       "                                     cleaned_mail_stem  \n",
       "791  swiss linguistic society organize summer schoo...  \n",
       "360  wonder interest subscribe optin email list who...  \n",
       "582  forward follow post request robert rankin rank...  \n",
       "611  celtic linguistics conference second post call...  \n",
       "284  discover family history rate cool site week vi...  "
      ]
     },
     "execution_count": 38,
     "metadata": {},
     "output_type": "execute_result"
    }
   ],
   "source": [
    "data=shuffle(data,random_state=123)\n",
    "data.head()"
   ]
  },
  {
   "cell_type": "code",
   "execution_count": 39,
   "metadata": {
    "collapsed": true
   },
   "outputs": [],
   "source": [
    "bow_vect=CountVectorizer()\n",
    "bow=bow_vect.fit_transform(data['cleaned_mail_stem'].values)\n",
    "x=bow[:,:].toarray()"
   ]
  },
  {
   "cell_type": "code",
   "execution_count": 49,
   "metadata": {},
   "outputs": [
    {
     "data": {
      "text/plain": [
       "(937, 22900)"
      ]
     },
     "execution_count": 49,
     "metadata": {},
     "output_type": "execute_result"
    }
   ],
   "source": [
    "x.shape"
   ]
  },
  {
   "cell_type": "markdown",
   "metadata": {},
   "source": [
    "# tsne"
   ]
  },
  {
   "cell_type": "code",
   "execution_count": 46,
   "metadata": {
    "collapsed": true
   },
   "outputs": [],
   "source": [
    "tsne=TSNE(n_components=2,perplexity=30).fit_transform(x)\n",
    "df=pd.DataFrame(tsne,columns=('dim1','dim2'))"
   ]
  },
  {
   "cell_type": "code",
   "execution_count": 47,
   "metadata": {},
   "outputs": [
    {
     "data": {
      "text/plain": [
       "<seaborn.axisgrid.FacetGrid at 0xc259250>"
      ]
     },
     "execution_count": 47,
     "metadata": {},
     "output_type": "execute_result"
    },
    {
     "data": {
      "image/png": "[encoded data removed]",
      "text/plain": [
       "<matplotlib.figure.Figure at 0x9ff5150>"
      ]
     },
     "metadata": {},
     "output_type": "display_data"
    }
   ],
   "source": [
    "df=pd.concat([df,data['type'].iloc[:]],axis=1)\n",
    "sns.FacetGrid(df,hue='type',size=5).map(plt.scatter,'dim1','dim2').add_legend()"
   ]
  },
  {
   "cell_type": "markdown",
   "metadata": {},
   "source": [
    "# Binary - BOW for Bernoulli Naive - Bayes"
   ]
  },
  {
   "cell_type": "code",
   "execution_count": 52,
   "metadata": {
    "collapsed": true
   },
   "outputs": [],
   "source": [
    "bow_vect=CountVectorizer(binary=True)\n",
    "bow=bow_vect.fit_transform(data['cleaned_mail_stem'].values)\n"
   ]
  },
  {
   "cell_type": "code",
   "execution_count": 53,
   "metadata": {
    "collapsed": true
   },
   "outputs": [],
   "source": [
    "x=bow  \n",
    "y=data['type'].values\n",
    "x_train,x_test,y_train,y_test=train_test_split(x,y,test_size=0.3,shuffle=False)"
   ]
  },
  {
   "cell_type": "code",
   "execution_count": 54,
   "metadata": {},
   "outputs": [
    {
     "name": "stdout",
     "output_type": "stream",
     "text": [
      "the optimal value of alpha is 0.030\n"
     ]
    },
    {
     "data": {
      "image/png": "[encoded data removed]",
      "text/plain": [
       "<matplotlib.figure.Figure at 0xc1a7cf0>"
      ]
     },
     "metadata": {},
     "output_type": "display_data"
    }
   ],
   "source": [
    "alpha=np.linspace(0.01,0.1,10)\n",
    "cv_scores=[]\n",
    "\n",
    "for a in alpha:\n",
    "    clf=BernoulliNB(alpha=a)\n",
    "    score=cross_val_score(clf,x_train,y_train,cv=8,scoring='accuracy')\n",
    "    cv_scores.append(score.mean())\n",
    "    \n",
    "MSE=[1-x for x in cv_scores]\n",
    "\n",
    "optimal_alpha=alpha[MSE.index(min(MSE))]\n",
    "print('the optimal value of alpha is %0.3f' % optimal_alpha)\n",
    "plt.plot(alpha,MSE)\n",
    "plt.xlabel('no. of alpha')\n",
    "plt.ylabel('misclassification error')\n",
    "plt.show()"
   ]
  },
  {
   "cell_type": "code",
   "execution_count": 55,
   "metadata": {},
   "outputs": [
    {
     "name": "stdout",
     "output_type": "stream",
     "text": [
      "99.6453900709\n"
     ]
    },
    {
     "data": {
      "text/plain": [
       "array([[145,   1],\n",
       "       [  0, 136]], dtype=int64)"
      ]
     },
     "execution_count": 55,
     "metadata": {},
     "output_type": "execute_result"
    }
   ],
   "source": [
    "clf=BernoulliNB(alpha=optimal_alpha)\n",
    "clf.fit(x_train,y_train)\n",
    "y_pred=clf.predict(x_test)\n",
    "acc=accuracy_score(y_test,y_pred,normalize=True)*float(100)\n",
    "print(acc)\n",
    "cof=confusion_matrix(y_test,y_pred).T\n",
    "cof"
   ]
  },
  {
   "cell_type": "code",
   "execution_count": 56,
   "metadata": {},
   "outputs": [
    {
     "name": "stdout",
     "output_type": "stream",
     "text": [
      "precision is = 1.0\n",
      "recall is = 0.9927007299270073\n",
      "fscore is = 0.9963369963369962\n"
     ]
    }
   ],
   "source": [
    "tp=int(cof[1:,1:])\n",
    "fp=int(cof[1:,:1])\n",
    "fn=int(cof[:1,1:])\n",
    "pre=tp/(tp+fp)\n",
    "rec=tp/(tp+fn)\n",
    "fsco=(2*pre*rec)/(pre+rec)\n",
    "print(\"precision is =\",pre)\n",
    "print(\"recall is =\",rec)\n",
    "print(\"fscore is =\",fsco)"
   ]
  },
  {
   "cell_type": "markdown",
   "metadata": {},
   "source": [
    "# multinomailNB - BOW"
   ]
  },
  {
   "cell_type": "code",
   "execution_count": 58,
   "metadata": {
    "collapsed": true
   },
   "outputs": [],
   "source": [
    "bow_vect=CountVectorizer()\n",
    "bow=bow_vect.fit_transform(data['cleaned_mail_stem'].values)"
   ]
  },
  {
   "cell_type": "code",
   "execution_count": 59,
   "metadata": {
    "collapsed": true
   },
   "outputs": [],
   "source": [
    "x=bow  \n",
    "y=data['type'].values\n",
    "x_train,x_test,y_train,y_test=train_test_split(x,y,test_size=0.3,shuffle=False)"
   ]
  },
  {
   "cell_type": "code",
   "execution_count": 60,
   "metadata": {},
   "outputs": [
    {
     "name": "stdout",
     "output_type": "stream",
     "text": [
      "the optimal value of alpha is 0.043\n"
     ]
    },
    {
     "data": {
      "image/png": "[encoded data removed]",
      "text/plain": [
       "<matplotlib.figure.Figure at 0xd226d10>"
      ]
     },
     "metadata": {},
     "output_type": "display_data"
    }
   ],
   "source": [
    "alpha=np.linspace(0.01,0.1,20)\n",
    "cv_scores=[]\n",
    "\n",
    "for a in alpha:\n",
    "    clf=MultinomialNB(alpha=a)\n",
    "    score=cross_val_score(clf,x_train,y_train,cv=8,scoring='accuracy')\n",
    "    cv_scores.append(score.mean())\n",
    "    \n",
    "MSE=[1-x for x in cv_scores]\n",
    "\n",
    "optimal_alpha=alpha[MSE.index(min(MSE))]\n",
    "print('the optimal value of alpha is %0.3f' % optimal_alpha)\n",
    "plt.plot(alpha,MSE)\n",
    "plt.xlabel('no. of alpha')\n",
    "plt.ylabel('misclassification error')\n",
    "plt.show()"
   ]
  },
  {
   "cell_type": "code",
   "execution_count": 61,
   "metadata": {},
   "outputs": [
    {
     "name": "stdout",
     "output_type": "stream",
     "text": [
      "98.9361702128\n"
     ]
    },
    {
     "data": {
      "text/plain": [
       "array([[145,   3],\n",
       "       [  0, 134]], dtype=int64)"
      ]
     },
     "execution_count": 61,
     "metadata": {},
     "output_type": "execute_result"
    }
   ],
   "source": [
    "clf=MultinomialNB(alpha=optimal_alpha)\n",
    "clf.fit(x_train,y_train)\n",
    "y_pred=clf.predict(x_test)\n",
    "acc=accuracy_score(y_test,y_pred,normalize=True)*float(100)\n",
    "print(acc)\n",
    "cof=confusion_matrix(y_test,y_pred).T\n",
    "cof"
   ]
  },
  {
   "cell_type": "code",
   "execution_count": 62,
   "metadata": {},
   "outputs": [
    {
     "name": "stdout",
     "output_type": "stream",
     "text": [
      "precision is = 1.0\n",
      "recall is = 0.9781021897810219\n",
      "fscore is = 0.988929889298893\n"
     ]
    }
   ],
   "source": [
    "tp=int(cof[1:,1:])\n",
    "fp=int(cof[1:,:1])\n",
    "fn=int(cof[:1,1:])\n",
    "pre=tp/(tp+fp)\n",
    "rec=tp/(tp+fn)\n",
    "fsco=(2*pre*rec)/(pre+rec)\n",
    "print(\"precision is =\",pre)\n",
    "print(\"recall is =\",rec)\n",
    "print(\"fscore is =\",fsco)"
   ]
  },
  {
   "cell_type": "markdown",
   "metadata": {},
   "source": [
    "# tdif tsne"
   ]
  },
  {
   "cell_type": "code",
   "execution_count": 50,
   "metadata": {
    "collapsed": true
   },
   "outputs": [],
   "source": [
    "tfidf_vec=TfidfVectorizer()\n",
    "tfidf=tfidf_vec.fit_transform(data['cleaned_mail_stem'].values)\n",
    "y=tfidf[:,:].toarray()"
   ]
  },
  {
   "cell_type": "code",
   "execution_count": 51,
   "metadata": {},
   "outputs": [
    {
     "data": {
      "text/plain": [
       "<seaborn.axisgrid.FacetGrid at 0xc2694d0>"
      ]
     },
     "execution_count": 51,
     "metadata": {},
     "output_type": "execute_result"
    },
    {
     "data": {
      "image/png": "[encoded data removed]",
      "text/plain": [
       "<matplotlib.figure.Figure at 0xd05d3d0>"
      ]
     },
     "metadata": {},
     "output_type": "display_data"
    }
   ],
   "source": [
    "tsne=TSNE(n_components=2,perplexity=30).fit_transform(y)\n",
    "df=pd.DataFrame(tsne,columns=('dim1','dim2'))\n",
    "df=pd.concat([df,data['type'].iloc[:3500]],axis=1)\n",
    "sns.FacetGrid(df,hue='type',size=5).map(plt.scatter,'dim1','dim2').add_legend()"
   ]
  },
  {
   "cell_type": "markdown",
   "metadata": {},
   "source": [
    "# tdif -multinomailNB"
   ]
  },
  {
   "cell_type": "code",
   "execution_count": 63,
   "metadata": {
    "collapsed": true
   },
   "outputs": [],
   "source": [
    "tf_idf=TfidfVectorizer()\n",
    "tfidf=tf_idf.fit_transform(data['cleaned_mail_stem'].values)\n",
    "x=tfidf  \n",
    "y=data['type'].values\n",
    "x_train,x_test,y_train,y_test=train_test_split(x,y,test_size=0.3,shuffle=False)"
   ]
  },
  {
   "cell_type": "code",
   "execution_count": 64,
   "metadata": {},
   "outputs": [
    {
     "name": "stdout",
     "output_type": "stream",
     "text": [
      "the optimal value of alpha is 0.43\n"
     ]
    },
    {
     "data": {
      "image/png": "[encoded data removed]",
      "text/plain": [
       "<matplotlib.figure.Figure at 0xc710ad0>"
      ]
     },
     "metadata": {},
     "output_type": "display_data"
    }
   ],
   "source": [
    "alpha=np.linspace(0.1,1,20)\n",
    "cv_scores=[]\n",
    "\n",
    "for a in alpha:\n",
    "    clf=MultinomialNB(alpha=a)\n",
    "    score=cross_val_score(clf,x_train,y_train,cv=8,scoring='accuracy')\n",
    "    cv_scores.append(score.mean())\n",
    "    \n",
    "MSE=[1-x for x in cv_scores]\n",
    "\n",
    "optimal_alpha=alpha[MSE.index(min(MSE))]\n",
    "print('the optimal value of alpha is %0.2f' % optimal_alpha)\n",
    "plt.plot(alpha,MSE)\n",
    "plt.xlabel('no. of alpha')\n",
    "plt.ylabel('misclassification error')\n",
    "plt.show()"
   ]
  },
  {
   "cell_type": "code",
   "execution_count": 65,
   "metadata": {},
   "outputs": [
    {
     "name": "stdout",
     "output_type": "stream",
     "text": [
      "98.5815602837\n"
     ]
    },
    {
     "data": {
      "text/plain": [
       "array([[142,   1],\n",
       "       [  3, 136]], dtype=int64)"
      ]
     },
     "execution_count": 65,
     "metadata": {},
     "output_type": "execute_result"
    }
   ],
   "source": [
    "clf=MultinomialNB(alpha=optimal_alpha)\n",
    "clf.fit(x_train,y_train)\n",
    "y_pred=clf.predict(x_test)\n",
    "acc=accuracy_score(y_test,y_pred,normalize=True)*float(100)\n",
    "print(acc)\n",
    "cof=confusion_matrix(y_test,y_pred).T\n",
    "cof"
   ]
  },
  {
   "cell_type": "code",
   "execution_count": 66,
   "metadata": {},
   "outputs": [
    {
     "name": "stdout",
     "output_type": "stream",
     "text": [
      "precision is = 0.9784172661870504\n",
      "recall is = 0.9927007299270073\n",
      "fscore is = 0.9855072463768116\n"
     ]
    }
   ],
   "source": [
    "tp=int(cof[1:,1:])\n",
    "fp=int(cof[1:,:1])\n",
    "fn=int(cof[:1,1:])\n",
    "pre=tp/(tp+fp)\n",
    "rec=tp/(tp+fn)\n",
    "fsco=(2*pre*rec)/(pre+rec)\n",
    "print(\"precision is =\",pre)\n",
    "print(\"recall is =\",rec)\n",
    "print(\"fscore is =\",fsco)"
   ]
  },
  {
   "cell_type": "markdown",
   "metadata": {},
   "source": [
    "# CONCLUSION\n",
    "* Amongst all model Binary BOW has excellent confusion matrix with correct prediction and also high acc,recall,fscore\n",
    "* we have tdif is showing more overlap but still its showing goood result"
   ]
  },
  {
   "cell_type": "code",
   "execution_count": null,
   "metadata": {
    "collapsed": true
   },
   "outputs": [],
   "source": []
  }
 ],
 "metadata": {
  "kernelspec": {
   "display_name": "Python 3",
   "language": "python",
   "name": "python3"
  },
  "language_info": {
   "codemirror_mode": {
    "name": "ipython",
    "version": 3
   },
   "file_extension": ".py",
   "mimetype": "text/x-python",
   "name": "python",
   "nbconvert_exporter": "python",
   "pygments_lexer": "ipython3",
   "version": "3.6.3"
  }
 },
 "nbformat": 4,
 "nbformat_minor": 2
}
